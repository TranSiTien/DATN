{
 "cells": [
  {
   "cell_type": "code",
   "execution_count": 2,
   "metadata": {},
   "outputs": [],
   "source": [
    "import api as papi\n",
    "import pandas as pd\n",
    "import batch_crawl as bc\n",
    "import requests\n",
    "import seaborn as sns\n",
    "import os\n",
    "from tqdm import tqdm"
   ]
  },
  {
   "cell_type": "code",
   "execution_count": null,
   "metadata": {},
   "outputs": [],
   "source": [
    "from constants import *"
   ]
  },
  {
   "cell_type": "markdown",
   "metadata": {},
   "source": [
    "# Crawl all pets"
   ]
  },
  {
   "cell_type": "code",
   "execution_count": 4,
   "metadata": {},
   "outputs": [
    {
     "name": "stderr",
     "output_type": "stream",
     "text": [
      "Fetching pets data: 100%|██████████| 20/20 [00:20<00:00,  1.02s/it]\n"
     ]
    }
   ],
   "source": [
    "TOTAL_PETS = 1000\n",
    "PAGE_SIZE = 50\n",
    "PETS_FILE = \"test/pets.csv\"\n",
    "pets = {\n",
    "    \"id\": [],\n",
    "    \"name\": [],\n",
    "}\n",
    "\n",
    "for batch in tqdm(range(0, TOTAL_PETS, PAGE_SIZE), desc=\"Fetching pets data\"):\n",
    "    pets_batch = papi.get_actives(offset=batch, limit=PAGE_SIZE)\n",
    "    for pet in pets_batch:\n",
    "        pets[\"id\"].append(pet.id)\n",
    "        pets[\"name\"].append(pet.name)\n",
    "        \n",
    "df = pd.DataFrame(pets)\n",
    "df.to_csv(PETS_FILE, index=False)"
   ]
  },
  {
   "cell_type": "markdown",
   "metadata": {},
   "source": [
    "# Crawl total photos of pets"
   ]
  },
  {
   "cell_type": "code",
   "execution_count": 5,
   "metadata": {},
   "outputs": [
    {
     "name": "stderr",
     "output_type": "stream",
     "text": [
      "Fetching pets total photos: 100%|██████████| 1000/1000 [15:21<00:00,  1.09it/s]\n"
     ]
    }
   ],
   "source": [
    "pets = pd.read_csv(PETS_FILE)\n",
    "pets_ids = pets[\"id\"].tolist()\n",
    "\n",
    "pets_total_photos = {\n",
    "    \"id\": [],\n",
    "    \"total_photos\": [],\n",
    "}\n",
    "\n",
    "for pet_id in tqdm(pets_ids, desc=\"Fetching pets total photos\"):\n",
    "    total_photos = papi.get_total_photos(pet_id)\n",
    "    pets_total_photos[\"id\"].append(pet_id)\n",
    "    pets_total_photos[\"total_photos\"].append(total_photos)"
   ]
  },
  {
   "cell_type": "code",
   "execution_count": 14,
   "metadata": {},
   "outputs": [],
   "source": [
    "df = pd.DataFrame(pets_total_photos)\n",
    "df.to_csv(PETS_TOTAL_PHOTOS_FILE, index=False)"
   ]
  },
  {
   "cell_type": "markdown",
   "metadata": {},
   "source": [
    "# Get desired pets"
   ]
  },
  {
   "cell_type": "code",
   "execution_count": 3,
   "metadata": {},
   "outputs": [
    {
     "data": {
      "text/plain": [
       "<Axes: xlabel='total_photos'>"
      ]
     },
     "execution_count": 3,
     "metadata": {},
     "output_type": "execute_result"
    },
    {
     "data": {
      "image/png": "[encoded data removed]",
      "text/plain": [
       "<Figure size 640x480 with 1 Axes>"
      ]
     },
     "metadata": {},
     "output_type": "display_data"
    }
   ],
   "source": [
    "pets_total_photos = pd.read_csv(PETS_TOTAL_PHOTOS_FILE)\n",
    "# plot total photos distribution\n",
    "sns.boxplot(x=pets_total_photos[\"total_photos\"])"
   ]
  },
  {
   "cell_type": "code",
   "execution_count": 12,
   "metadata": {},
   "outputs": [
    {
     "data": {
      "text/html": [
       "<div>\n",
       "<style scoped>\n",
       "    .dataframe tbody tr th:only-of-type {\n",
       "        vertical-align: middle;\n",
       "    }\n",
       "\n",
       "    .dataframe tbody tr th {\n",
       "        vertical-align: top;\n",
       "    }\n",
       "\n",
       "    .dataframe thead th {\n",
       "        text-align: right;\n",
       "    }\n",
       "</style>\n",
       "<table border=\"1\" class=\"dataframe\">\n",
       "  <thead>\n",
       "    <tr style=\"text-align: right;\">\n",
       "      <th></th>\n",
       "      <th>id</th>\n",
       "      <th>total_photos</th>\n",
       "    </tr>\n",
       "  </thead>\n",
       "  <tbody>\n",
       "    <tr>\n",
       "      <th>count</th>\n",
       "      <td>1000.000000</td>\n",
       "      <td>1000.000000</td>\n",
       "    </tr>\n",
       "    <tr>\n",
       "      <th>mean</th>\n",
       "      <td>374888.595000</td>\n",
       "      <td>26.994000</td>\n",
       "    </tr>\n",
       "    <tr>\n",
       "      <th>std</th>\n",
       "      <td>86164.227173</td>\n",
       "      <td>123.426618</td>\n",
       "    </tr>\n",
       "    <tr>\n",
       "      <th>min</th>\n",
       "      <td>467.000000</td>\n",
       "      <td>0.000000</td>\n",
       "    </tr>\n",
       "    <tr>\n",
       "      <th>25%</th>\n",
       "      <td>309583.500000</td>\n",
       "      <td>5.000000</td>\n",
       "    </tr>\n",
       "    <tr>\n",
       "      <th>50%</th>\n",
       "      <td>347310.500000</td>\n",
       "      <td>10.000000</td>\n",
       "    </tr>\n",
       "    <tr>\n",
       "      <th>75%</th>\n",
       "      <td>441823.250000</td>\n",
       "      <td>21.000000</td>\n",
       "    </tr>\n",
       "    <tr>\n",
       "      <th>max</th>\n",
       "      <td>594914.000000</td>\n",
       "      <td>2859.000000</td>\n",
       "    </tr>\n",
       "  </tbody>\n",
       "</table>\n",
       "</div>"
      ],
      "text/plain": [
       "                  id  total_photos\n",
       "count    1000.000000   1000.000000\n",
       "mean   374888.595000     26.994000\n",
       "std     86164.227173    123.426618\n",
       "min       467.000000      0.000000\n",
       "25%    309583.500000      5.000000\n",
       "50%    347310.500000     10.000000\n",
       "75%    441823.250000     21.000000\n",
       "max    594914.000000   2859.000000"
      ]
     },
     "execution_count": 12,
     "metadata": {},
     "output_type": "execute_result"
    }
   ],
   "source": [
    "pets_total_photos.describe()"
   ]
  },
  {
   "cell_type": "code",
   "execution_count": null,
   "metadata": {},
   "outputs": [
    {
     "data": {
      "text/html": [
       "<div>\n",
       "<style scoped>\n",
       "    .dataframe tbody tr th:only-of-type {\n",
       "        vertical-align: middle;\n",
       "    }\n",
       "\n",
       "    .dataframe tbody tr th {\n",
       "        vertical-align: top;\n",
       "    }\n",
       "\n",
       "    .dataframe thead th {\n",
       "        text-align: right;\n",
       "    }\n",
       "</style>\n",
       "<table border=\"1\" class=\"dataframe\">\n",
       "  <thead>\n",
       "    <tr style=\"text-align: right;\">\n",
       "      <th></th>\n",
       "      <th>id</th>\n",
       "      <th>total_photos</th>\n",
       "    </tr>\n",
       "  </thead>\n",
       "  <tbody>\n",
       "    <tr>\n",
       "      <th>0</th>\n",
       "      <td>328282</td>\n",
       "      <td>2253</td>\n",
       "    </tr>\n",
       "    <tr>\n",
       "      <th>1</th>\n",
       "      <td>344026</td>\n",
       "      <td>497</td>\n",
       "    </tr>\n",
       "    <tr>\n",
       "      <th>2</th>\n",
       "      <td>276257</td>\n",
       "      <td>325</td>\n",
       "    </tr>\n",
       "    <tr>\n",
       "      <th>3</th>\n",
       "      <td>320532</td>\n",
       "      <td>39</td>\n",
       "    </tr>\n",
       "    <tr>\n",
       "      <th>4</th>\n",
       "      <td>313004</td>\n",
       "      <td>88</td>\n",
       "    </tr>\n",
       "    <tr>\n",
       "      <th>...</th>\n",
       "      <td>...</td>\n",
       "      <td>...</td>\n",
       "    </tr>\n",
       "    <tr>\n",
       "      <th>940</th>\n",
       "      <td>304924</td>\n",
       "      <td>26</td>\n",
       "    </tr>\n",
       "    <tr>\n",
       "      <th>953</th>\n",
       "      <td>428373</td>\n",
       "      <td>23</td>\n",
       "    </tr>\n",
       "    <tr>\n",
       "      <th>958</th>\n",
       "      <td>332783</td>\n",
       "      <td>24</td>\n",
       "    </tr>\n",
       "    <tr>\n",
       "      <th>987</th>\n",
       "      <td>305056</td>\n",
       "      <td>23</td>\n",
       "    </tr>\n",
       "    <tr>\n",
       "      <th>991</th>\n",
       "      <td>278918</td>\n",
       "      <td>117</td>\n",
       "    </tr>\n",
       "  </tbody>\n",
       "</table>\n",
       "<p>252 rows × 2 columns</p>\n",
       "</div>"
      ],
      "text/plain": [
       "         id  total_photos\n",
       "0    328282          2253\n",
       "1    344026           497\n",
       "2    276257           325\n",
       "3    320532            39\n",
       "4    313004            88\n",
       "..      ...           ...\n",
       "940  304924            26\n",
       "953  428373            23\n",
       "958  332783            24\n",
       "987  305056            23\n",
       "991  278918           117\n",
       "\n",
       "[252 rows x 2 columns]"
      ]
     },
     "execution_count": 16,
     "metadata": {},
     "output_type": "execute_result"
    }
   ],
   "source": [
    "filtered_pest = pets_total_photos[pets_total_photos[\"total_photos\"] > 20]"
   ]
  },
  {
   "cell_type": "code",
   "execution_count": 14,
   "metadata": {},
   "outputs": [],
   "source": [
    "DESIRED_PETS = 200"
   ]
  },
  {
   "cell_type": "code",
   "execution_count": 15,
   "metadata": {},
   "outputs": [],
   "source": [
    "# get random pets\n",
    "selected_pets = filtered_pest.sample(n=DESIRED_PETS)\n",
    "selected_pets.to_csv(SELECTED_PETS_FILE, index=False)"
   ]
  },
  {
   "cell_type": "markdown",
   "metadata": {},
   "source": [
    "# Crawl pets' details"
   ]
  },
  {
   "cell_type": "code",
   "execution_count": 3,
   "metadata": {},
   "outputs": [],
   "source": [
    "DESIRED_PET_PHOTOS = 20"
   ]
  },
  {
   "cell_type": "code",
   "execution_count": 4,
   "metadata": {},
   "outputs": [
    {
     "name": "stderr",
     "output_type": "stream",
     "text": [
      "Fetching pet photos:   8%|▊         | 15/200 [00:30<06:06,  1.98s/it]"
     ]
    },
    {
     "name": "stdout",
     "output_type": "stream",
     "text": [
      "Skipping pet 94792 due to forbidden photos\n"
     ]
    },
    {
     "name": "stderr",
     "output_type": "stream",
     "text": [
      "Fetching pet photos:  29%|██▉       | 58/200 [01:49<04:46,  2.02s/it]"
     ]
    },
    {
     "name": "stdout",
     "output_type": "stream",
     "text": [
      "Skipping pet 332392 due to forbidden photos\n"
     ]
    },
    {
     "name": "stderr",
     "output_type": "stream",
     "text": [
      "Fetching pet photos:  66%|██████▌   | 132/200 [04:19<02:09,  1.91s/it]"
     ]
    },
    {
     "name": "stdout",
     "output_type": "stream",
     "text": [
      "Skipping pet 320100 due to forbidden photos\n"
     ]
    },
    {
     "name": "stderr",
     "output_type": "stream",
     "text": [
      "Fetching pet photos:  70%|███████   | 140/200 [04:32<01:33,  1.55s/it]"
     ]
    },
    {
     "name": "stdout",
     "output_type": "stream",
     "text": [
      "Skipping pet 318566 due to forbidden photos\n"
     ]
    },
    {
     "name": "stderr",
     "output_type": "stream",
     "text": [
      "Fetching pet photos:  75%|███████▌  | 150/200 [04:55<01:51,  2.23s/it]"
     ]
    },
    {
     "name": "stdout",
     "output_type": "stream",
     "text": [
      "Skipping pet 317512 due to forbidden photos\n"
     ]
    },
    {
     "name": "stderr",
     "output_type": "stream",
     "text": [
      "Fetching pet photos:  90%|█████████ | 180/200 [06:08<00:32,  1.63s/it]"
     ]
    },
    {
     "name": "stdout",
     "output_type": "stream",
     "text": [
      "Skipping pet 291860 due to forbidden photos\n"
     ]
    },
    {
     "name": "stderr",
     "output_type": "stream",
     "text": [
      "Fetching pet photos: 100%|██████████| 200/200 [06:42<00:00,  2.01s/it]\n"
     ]
    }
   ],
   "source": [
    "selected_pets = pd.read_csv(SELECTED_PETS_FILE, header=0)\n",
    "selected_pets_ids = selected_pets[\"id\"].tolist()\n",
    "\n",
    "photos = {\n",
    "    \"id\": [],\n",
    "    \"pet_id\": [],\n",
    "    \"url\": [],\n",
    "}\n",
    "\n",
    "for pet_id in tqdm(selected_pets_ids, desc=\"Fetching pet photos\"):\n",
    "    pet_total_photos = papi.get_total_photos(pet_id)\n",
    "    photo_batches = bc.get_crawl_batches(pet_total_photos, DESIRED_PET_PHOTOS, batch_size=50)\n",
    "    try:\n",
    "        for batch in photo_batches:\n",
    "            try:\n",
    "                photos_batch = papi.get_photos(pet_id, limit=batch.limit, offset=batch.offset)\n",
    "                indices = batch.page_indices\n",
    "                for idx in indices:\n",
    "                    photos[\"id\"].append(photos_batch[idx].id)\n",
    "                    photos[\"pet_id\"].append(pet_id)\n",
    "                    photos[\"url\"].append(photos_batch[idx].url)\n",
    "            except papi.PetPhotoForbiddenException:\n",
    "                raise\n",
    "                    \n",
    "            except Exception as e:\n",
    "                print(f\"Error fetching photos for pet {pet_id}: {e}\")\n",
    "                pass\n",
    "        \n",
    "    except papi.PetPhotoForbiddenException:\n",
    "        print(f\"Skipping pet {pet_id} due to forbidden photos\")\n",
    "        continue\n",
    "            "
   ]
  },
  {
   "cell_type": "code",
   "execution_count": 5,
   "metadata": {},
   "outputs": [],
   "source": [
    "df = pd.DataFrame(photos)\n",
    "df.to_csv(SELECTED_PETS_PHOTOS_FILE, index=False)"
   ]
  },
  {
   "cell_type": "markdown",
   "metadata": {},
   "source": [
    "# Download photos"
   ]
  },
  {
   "cell_type": "code",
   "execution_count": 4,
   "metadata": {},
   "outputs": [
    {
     "name": "stderr",
     "output_type": "stream",
     "text": [
      "Downloading photos: 100%|██████████| 194/194 [1:24:13<00:00, 26.05s/it]\n"
     ]
    }
   ],
   "source": [
    "photos = pd.read_csv(SELECTED_PETS_PHOTOS_FILE)\n",
    "def get_pet_folder(pet_id):\n",
    "    return f\"{PHOTOS_FOLDER}/{pet_id}\"\n",
    "\n",
    "# group photos by pet_id\n",
    "grouped = photos.groupby(\"pet_id\")\n",
    "\n",
    "# create folder for each pet\n",
    "for pet_id in photos[\"pet_id\"].unique():\n",
    "    folder = get_pet_folder(pet_id)\n",
    "    if not os.path.exists(folder):\n",
    "        os.makedirs(folder)\n",
    "        \n",
    "# download photos\n",
    "for pet_id, group in tqdm(grouped, desc=\"Downloading photos\"):\n",
    "    folder = get_pet_folder(pet_id)\n",
    "    for idx, row in group.iterrows():\n",
    "        photo_id = row[\"id\"]\n",
    "        photo_url = row[\"url\"]\n",
    "        photo_path = f\"{folder}/{photo_id}.jpg\"\n",
    "        if not os.path.exists(photo_path):\n",
    "            try:\n",
    "                response = requests.get(photo_url)\n",
    "                with open(photo_path, \"wb\") as f:\n",
    "                    f.write(response.content)\n",
    "            except Exception as e:\n",
    "                print(f\"Error downloading photo {photo_id} for pet {pet_id}: {e}\")\n",
    "                pass"
   ]
  }
 ],
 "metadata": {
  "kernelspec": {
   "display_name": "venv",
   "language": "python",
   "name": "python3"
  },
  "language_info": {
   "codemirror_mode": {
    "name": "ipython",
    "version": 3
   },
   "file_extension": ".py",
   "mimetype": "text/x-python",
   "name": "python",
   "nbconvert_exporter": "python",
   "pygments_lexer": "ipython3",
   "version": "3.12.3"
  }
 },
 "nbformat": 4,
 "nbformat_minor": 2
}
