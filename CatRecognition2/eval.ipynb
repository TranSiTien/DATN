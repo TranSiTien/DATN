{
 "cells": [
  {
   "cell_type": "code",
   "execution_count": 1,
   "metadata": {},
   "outputs": [],
   "source": [
    "import matplotlib.pyplot as plt\n",
    "import argparse, os, csv\n",
    "import transforms as T\n",
    "from constants import *\n",
    "from torchvision import transforms\n",
    "from dataset import FewShotDataset, transforms_registry\n",
    "from torch.utils.data import Subset"
   ]
  },
  {
   "cell_type": "code",
   "execution_count": 2,
   "metadata": {},
   "outputs": [],
   "source": [
    "args = argparse.Namespace()\n",
    "args.n_way = 5\n",
    "args.n_shot = 5\n",
    "args.n_query = 5\n",
    "args.n_episodes = 100\n",
    "args.input_size = 224\n",
    "\n",
    "photos_folder = os.path.join(os.getcwd(), FORMATTED_PHOTO_FOLDER)\n",
    "selected_folders = []\n",
    "with open(SELECTED_FOLDERS_FOR_MODEL, \"r\") as f:\n",
    "    reader = csv.DictReader(f)\n",
    "    for row in reader:\n",
    "        selected_folders.append(row[\"folder\"])\n",
    "\n",
    "transform = transforms_registry[\"train_2\"](args.input_size)\n",
    "\n",
    "#create dataset\n",
    "dataset = FewShotDataset(FORMATTED_PHOTO_FOLDER, selected_folders, transform=transform, \n",
    "                            n_way=args.n_way, n_shot=args.n_shot, n_query=args.n_query,\n",
    "                            n_episodes=args.n_episodes)"
   ]
  },
  {
   "cell_type": "code",
   "execution_count": 1,
   "metadata": {},
   "outputs": [
    {
     "ename": "NameError",
     "evalue": "name 'Subset' is not defined",
     "output_type": "error",
     "traceback": [
      "\u001b[1;31m---------------------------------------------------------------------------\u001b[0m",
      "\u001b[1;31mNameError\u001b[0m                                 Traceback (most recent call last)",
      "Cell \u001b[1;32mIn[1], line 1\u001b[0m\n\u001b[1;32m----> 1\u001b[0m \u001b[38;5;28;01mfor\u001b[39;00m support_set, query_set \u001b[38;5;129;01min\u001b[39;00m \u001b[43mSubset\u001b[49m(dataset, \u001b[38;5;28mrange\u001b[39m(\u001b[38;5;241m1\u001b[39m)):\n\u001b[0;32m      3\u001b[0m     support_set \u001b[38;5;241m=\u001b[39m support_set\u001b[38;5;241m.\u001b[39msqueeze(\u001b[38;5;241m0\u001b[39m)\n\u001b[0;32m      4\u001b[0m     query_set \u001b[38;5;241m=\u001b[39m query_set\u001b[38;5;241m.\u001b[39msqueeze(\u001b[38;5;241m0\u001b[39m)\n",
      "\u001b[1;31mNameError\u001b[0m: name 'Subset' is not defined"
     ]
    }
   ],
   "source": [
    "for support_set, query_set in Subset(dataset, range(1)):\n",
    "    \n",
    "    support_set = support_set.squeeze(0)\n",
    "    query_set = query_set.squeeze(0)\n",
    "    \n",
    "    n_class = support_set.size(0)\n",
    "    n_support = support_set.size(1)\n",
    "    n_query = query_set.size(1)\n",
    "    \n",
    "    # show support set in a row\n",
    "    cols = n_class\n",
    "    rows = n_support\n",
    "    print(f\"colums: {cols}, rows: {rows}\")\n",
    "    fig = plt.figure(figsize=(cols, rows))\n",
    "    for i in range(cols):\n",
    "        for j in range(rows):\n",
    "            ax = fig.add_subplot(rows, cols, i + j * cols + 1)\n",
    "            ax.imshow(support_set[i, j].permute(1, 2, 0))\n",
    "            ax.axis(\"off\")\n",
    "    plt.show()\n",
    "    \n",
    "    # show query set in a row\n",
    "    cols = n_class\n",
    "    rows = n_query\n",
    "    print(f\"colums: {cols}, rows: {rows}\")\n",
    "    fig = plt.figure(figsize=(cols, rows))\n",
    "    for i in range(cols):\n",
    "        for j in range(rows):\n",
    "            ax = fig.add_subplot(rows, cols, i + j * cols + 1)\n",
    "            ax.imshow(query_set[i, j].permute(1, 2, 0))\n",
    "            ax.axis(\"off\")\n",
    "            \n",
    "    plt.show()"
   ]
  },
  {
   "cell_type": "code",
   "execution_count": null,
   "metadata": {},
   "outputs": [],
   "source": []
  }
 ],
 "metadata": {
  "kernelspec": {
   "display_name": ".venv",
   "language": "python",
   "name": "python3"
  },
  "language_info": {
   "codemirror_mode": {
    "name": "ipython",
    "version": 3
   },
   "file_extension": ".py",
   "mimetype": "text/x-python",
   "name": "python",
   "nbconvert_exporter": "python",
   "pygments_lexer": "ipython3",
   "version": "3.11.0"
  }
 },
 "nbformat": 4,
 "nbformat_minor": 2
}
